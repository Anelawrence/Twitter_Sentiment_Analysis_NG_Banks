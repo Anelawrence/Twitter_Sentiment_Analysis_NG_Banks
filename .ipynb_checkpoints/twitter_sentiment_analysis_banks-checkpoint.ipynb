{
 "cells": [
  {
   "cell_type": "markdown",
   "id": "8cb2a9c6",
   "metadata": {},
   "source": [
    "# Twitter Sentiment Analysis of Nigerian Banks\n",
    "### Introduction\n",
    "The banking industry in Nigeria is the most digitized on the continent, and the nation was recently named the leader in digital payments in Africa. A [press release](https://www.businesswire.com/news/home/20220719005265/en/) from 2022 states that Nigeria recorded 3.7 billion real-time payments in 2021, placing it sixth among nations with the largest real-time payments markets.\n",
    "\n",
    "However, due to high inflation, rising interest rates, shortage of US dollars, regulatory interference, and shortage of the Naira notes before the general election in February, weakens bank operating conditions in 2023.\n",
    "\n",
    "### Aims and Objectives\n",
    "This project aims to uncover insights in from bank customers' tweets on Twitter.com. To see how the banks' online customers perceive or react to the respective banks' services.\n",
    "\n",
    "### Project Overview\n",
    "There are three major sections to this project:\n",
    "\n",
    "Data Collection: A python library called Snscrape is used to scrape tweets from Twitter, while pandas is used to read in the scraped data.\n",
    "\n",
    "Data Cleaning and Preprocessing: The libraries used are pandas (for data cleaning and analysis), textblob (for sentiment analysis), and nltk (natural processing language toolkit).\n",
    "\n",
    "Data Analysis and Visualization: For data visualization, the libraries matplotlib, seaborn and wordcloud were used."
   ]
  },
  {
   "cell_type": "markdown",
   "id": "704b7407",
   "metadata": {},
   "source": [
    "#### Import necessary libraries"
   ]
  },
  {
   "cell_type": "code",
   "execution_count": null,
   "id": "1e16eeb4",
   "metadata": {},
   "outputs": [],
   "source": [
    "import pandas as pd\n",
    "import snscrape.modules.twitter as sntwitter\n",
    "import itertools\n",
    "from tqdm.notebook import tqdm"
   ]
  },
  {
   "cell_type": "code",
   "execution_count": null,
   "id": "200d14d1",
   "metadata": {},
   "outputs": [],
   "source": [
    "import matplotlib.pyplot as plt\n",
    "import seaborn as sns\n",
    "import nest_asyncio\n",
    "import re\n",
    "from textblob import TextBlob\n",
    "from nltk.tokenize import WordPunctTokenizer\n",
    "from nltk.corpus import stopwords   \n",
    "from datetime import datetime\n",
    "import glob                     \n",
    "import os\n",
    "nest_asyncio.apply()\n",
    "import nltk\n",
    "nltk.download('stopwords')\n",
    "from nltk.tokenize import word_tokenize\n",
    "from wordcloud import WordCloud"
   ]
  },
  {
   "cell_type": "markdown",
   "id": "d383bb07",
   "metadata": {},
   "source": [
    "### Data Collection"
   ]
  },
  {
   "cell_type": "code",
   "execution_count": null,
   "id": "805fd671",
   "metadata": {},
   "outputs": [],
   "source": [
    "bank_name={'Guarantee Trust Bank':'gtb OR \\ gtbank',\n",
    "    'Zenith Bank':'zenith bank',\n",
    "    'UBA':'UBA',\n",
    "    'Access Bank':'access bank',\n",
    "    'Fidelity Bank':'fidelity bank',\n",
    "    'Eco Bank':'eco bank',\n",
    "    'First Bank':'first bank',\n",
    "    'Wema Bank':'wema bank',\n",
    "    'Kuda bank':'kuda bank OR \\ kuda',\n",
    "    'FCMB':'fcmb', \n",
    "    'Sterling bank':'sterling bank',\n",
    "    'Opay':'opay',\n",
    "    'Palmpay':'palmpay'}"
   ]
  },
  {
   "cell_type": "code",
   "execution_count": null,
   "id": "2ed41b60",
   "metadata": {},
   "outputs": [],
   "source": [
    "def scrape_config(search_string):\n",
    "    loc = '9.0820, 8.6753, 923768km'\n",
    "    twts = pd.DataFrame(itertools.islice(sntwitter.TwitterSearchScraper(\n",
    "    f'{search_string[1]} + since:2023-01-01 until:2023-05-30 geocode:\"{loc}\"').get_items(), 10000))\n",
    "    return twts"
   ]
  },
  {
   "cell_type": "code",
   "execution_count": null,
   "id": "12502abe",
   "metadata": {},
   "outputs": [],
   "source": [
    "def run_snscrape(search_vals):\n",
    "    \n",
    "    #set empty dataframe for join\n",
    "    out_df= pd.DataFrame()\n",
    "    \n",
    "    for bank in search_vals.items():\n",
    "        print (\"running for search item: \"+bank[0]+\"\\n\")\n",
    "        print (\"Search string: \"+bank[1]+\"\\n\")\n",
    "                \n",
    "        #run snscrape\n",
    "        tweets_df = scrape_config(bank)\n",
    "       \n",
    "        #join Dataframes and create 'Bank' column\n",
    "        tweets_df[\"Bank\"]= bank[0]\n",
    "        out_df = pd.concat([out_df,tweets_df])\n",
    "        \n",
    "    return out_df"
   ]
  },
  {
   "cell_type": "code",
   "execution_count": null,
   "id": "c4e4d1fa",
   "metadata": {},
   "outputs": [],
   "source": [
    "tweets_df = run_snscrape(bank_name)"
   ]
  },
  {
   "cell_type": "code",
   "execution_count": 263,
   "id": "518e0743",
   "metadata": {},
   "outputs": [],
   "source": [
    "pd.set_option('display.max_rows', 10)\n",
    "pd.set_option('display.max_columns', 10)\n",
    "pd.set_option('display.max_colwidth', None)"
   ]
  },
  {
   "cell_type": "code",
   "execution_count": null,
   "id": "339c18c8",
   "metadata": {},
   "outputs": [],
   "source": [
    "tweets_df.shape"
   ]
  },
  {
   "cell_type": "code",
   "execution_count": null,
   "id": "c0daf292",
   "metadata": {},
   "outputs": [],
   "source": [
    "tweets_df.head()"
   ]
  },
  {
   "cell_type": "code",
   "execution_count": null,
   "id": "d88d1e02",
   "metadata": {},
   "outputs": [],
   "source": [
    "# saving the dataframe\n",
    "#tweets_df.to_csv('raw_tweets.csv')"
   ]
  },
  {
   "cell_type": "code",
   "execution_count": 261,
   "id": "38a88111",
   "metadata": {},
   "outputs": [],
   "source": [
    "# read saved csv file\n",
    "tweets_df = pd.read_csv('raw_tweets.csv', index_col=0)"
   ]
  },
  {
   "cell_type": "code",
   "execution_count": 264,
   "id": "3bd5c99d",
   "metadata": {},
   "outputs": [
    {
     "data": {
      "text/html": [
       "<div>\n",
       "<style scoped>\n",
       "    .dataframe tbody tr th:only-of-type {\n",
       "        vertical-align: middle;\n",
       "    }\n",
       "\n",
       "    .dataframe tbody tr th {\n",
       "        vertical-align: top;\n",
       "    }\n",
       "\n",
       "    .dataframe thead th {\n",
       "        text-align: right;\n",
       "    }\n",
       "</style>\n",
       "<table border=\"1\" class=\"dataframe\">\n",
       "  <thead>\n",
       "    <tr style=\"text-align: right;\">\n",
       "      <th></th>\n",
       "      <th>Unnamed: 0</th>\n",
       "      <th>url</th>\n",
       "      <th>date</th>\n",
       "      <th>rawContent</th>\n",
       "      <th>renderedContent</th>\n",
       "      <th>...</th>\n",
       "      <th>viewCount</th>\n",
       "      <th>vibe</th>\n",
       "      <th>bookmarkCount</th>\n",
       "      <th>pinned</th>\n",
       "      <th>Bank</th>\n",
       "    </tr>\n",
       "  </thead>\n",
       "  <tbody>\n",
       "    <tr>\n",
       "      <th>0</th>\n",
       "      <td>0</td>\n",
       "      <td>https://twitter.com/MssMuhsina/status/1663334330599452674</td>\n",
       "      <td>2023-05-29 23:59:42+00:00</td>\n",
       "      <td>@talktalker2talk HAPPY\\nMOTHERS\\nDAY.\\n\\nMuhsina Yusuf 1388340909 Access Bank.</td>\n",
       "      <td>@talktalker2talk HAPPY\\nMOTHERS\\nDAY.\\n\\nMuhsina Yusuf 1388340909 Access Bank.</td>\n",
       "      <td>...</td>\n",
       "      <td>12.0</td>\n",
       "      <td>NaN</td>\n",
       "      <td>0</td>\n",
       "      <td>NaN</td>\n",
       "      <td>Access Bank</td>\n",
       "    </tr>\n",
       "    <tr>\n",
       "      <th>1</th>\n",
       "      <td>1</td>\n",
       "      <td>https://twitter.com/segun470413391/status/1663334076927946753</td>\n",
       "      <td>2023-05-29 23:58:41+00:00</td>\n",
       "      <td>@iammrblossom 0731732335 odutola segun access bank</td>\n",
       "      <td>@iammrblossom 0731732335 odutola segun access bank</td>\n",
       "      <td>...</td>\n",
       "      <td>1.0</td>\n",
       "      <td>NaN</td>\n",
       "      <td>0</td>\n",
       "      <td>NaN</td>\n",
       "      <td>Access Bank</td>\n",
       "    </tr>\n",
       "    <tr>\n",
       "      <th>2</th>\n",
       "      <td>2</td>\n",
       "      <td>https://twitter.com/myaccessbank/status/1663333999216066561</td>\n",
       "      <td>2023-05-29 23:58:23+00:00</td>\n",
       "      <td>@drmyas Hi @drmyas, Thank you for reaching out. Kindly check DM for feedback. ^JoJo</td>\n",
       "      <td>@drmyas Hi @drmyas, Thank you for reaching out. Kindly check DM for feedback. ^JoJo</td>\n",
       "      <td>...</td>\n",
       "      <td>6.0</td>\n",
       "      <td>NaN</td>\n",
       "      <td>0</td>\n",
       "      <td>NaN</td>\n",
       "      <td>Access Bank</td>\n",
       "    </tr>\n",
       "    <tr>\n",
       "      <th>3</th>\n",
       "      <td>3</td>\n",
       "      <td>https://twitter.com/Kantiokfaith1/status/1663333806139375617</td>\n",
       "      <td>2023-05-29 23:57:37+00:00</td>\n",
       "      <td>@iammrblossom Me\\n0805904822\\nAccess bank</td>\n",
       "      <td>@iammrblossom Me\\n0805904822\\nAccess bank</td>\n",
       "      <td>...</td>\n",
       "      <td>10.0</td>\n",
       "      <td>NaN</td>\n",
       "      <td>0</td>\n",
       "      <td>NaN</td>\n",
       "      <td>Access Bank</td>\n",
       "    </tr>\n",
       "    <tr>\n",
       "      <th>4</th>\n",
       "      <td>4</td>\n",
       "      <td>https://twitter.com/myaccessbank/status/1663333733934714880</td>\n",
       "      <td>2023-05-29 23:57:20+00:00</td>\n",
       "      <td>@Bro_vibez Hi  @Bro_vibez, I'm sorry your message is yet to be responded to. Our team is doing their best to respond to every inbox, i'll get to you. Please exercise some patience. ^JoJo</td>\n",
       "      <td>@Bro_vibez Hi  @Bro_vibez, I'm sorry your message is yet to be responded to. Our team is doing their best to respond to every inbox, i'll get to you. Please exercise some patience. ^JoJo</td>\n",
       "      <td>...</td>\n",
       "      <td>8.0</td>\n",
       "      <td>NaN</td>\n",
       "      <td>0</td>\n",
       "      <td>NaN</td>\n",
       "      <td>Access Bank</td>\n",
       "    </tr>\n",
       "  </tbody>\n",
       "</table>\n",
       "<p>5 rows × 33 columns</p>\n",
       "</div>"
      ],
      "text/plain": [
       "   Unnamed: 0                                                            url  \\\n",
       "0           0      https://twitter.com/MssMuhsina/status/1663334330599452674   \n",
       "1           1  https://twitter.com/segun470413391/status/1663334076927946753   \n",
       "2           2    https://twitter.com/myaccessbank/status/1663333999216066561   \n",
       "3           3   https://twitter.com/Kantiokfaith1/status/1663333806139375617   \n",
       "4           4    https://twitter.com/myaccessbank/status/1663333733934714880   \n",
       "\n",
       "                        date  \\\n",
       "0  2023-05-29 23:59:42+00:00   \n",
       "1  2023-05-29 23:58:41+00:00   \n",
       "2  2023-05-29 23:58:23+00:00   \n",
       "3  2023-05-29 23:57:37+00:00   \n",
       "4  2023-05-29 23:57:20+00:00   \n",
       "\n",
       "                                                                                                                                                                                   rawContent  \\\n",
       "0                                                                                                              @talktalker2talk HAPPY\\nMOTHERS\\nDAY.\\n\\nMuhsina Yusuf 1388340909 Access Bank.   \n",
       "1                                                                                                                                          @iammrblossom 0731732335 odutola segun access bank   \n",
       "2                                                                                                         @drmyas Hi @drmyas, Thank you for reaching out. Kindly check DM for feedback. ^JoJo   \n",
       "3                                                                                                                                                   @iammrblossom Me\\n0805904822\\nAccess bank   \n",
       "4  @Bro_vibez Hi  @Bro_vibez, I'm sorry your message is yet to be responded to. Our team is doing their best to respond to every inbox, i'll get to you. Please exercise some patience. ^JoJo   \n",
       "\n",
       "                                                                                                                                                                              renderedContent  \\\n",
       "0                                                                                                              @talktalker2talk HAPPY\\nMOTHERS\\nDAY.\\n\\nMuhsina Yusuf 1388340909 Access Bank.   \n",
       "1                                                                                                                                          @iammrblossom 0731732335 odutola segun access bank   \n",
       "2                                                                                                         @drmyas Hi @drmyas, Thank you for reaching out. Kindly check DM for feedback. ^JoJo   \n",
       "3                                                                                                                                                   @iammrblossom Me\\n0805904822\\nAccess bank   \n",
       "4  @Bro_vibez Hi  @Bro_vibez, I'm sorry your message is yet to be responded to. Our team is doing their best to respond to every inbox, i'll get to you. Please exercise some patience. ^JoJo   \n",
       "\n",
       "   ...  viewCount vibe  bookmarkCount  pinned         Bank  \n",
       "0  ...       12.0  NaN              0     NaN  Access Bank  \n",
       "1  ...        1.0  NaN              0     NaN  Access Bank  \n",
       "2  ...        6.0  NaN              0     NaN  Access Bank  \n",
       "3  ...       10.0  NaN              0     NaN  Access Bank  \n",
       "4  ...        8.0  NaN              0     NaN  Access Bank  \n",
       "\n",
       "[5 rows x 33 columns]"
      ]
     },
     "execution_count": 264,
     "metadata": {},
     "output_type": "execute_result"
    }
   ],
   "source": [
    "tweets_df.head()"
   ]
  },
  {
   "cell_type": "markdown",
   "id": "7d6b6edb",
   "metadata": {},
   "source": [
    "### Data Cleaning"
   ]
  },
  {
   "cell_type": "code",
   "execution_count": 265,
   "id": "b3cea9b9",
   "metadata": {},
   "outputs": [],
   "source": [
    "# remove Unmaned column\n",
    "tweets_df = tweets_df.loc[:, ~tweets_df.columns.str.contains('^Unnamed')]"
   ]
  },
  {
   "cell_type": "code",
   "execution_count": 266,
   "id": "bd2ba8f7",
   "metadata": {},
   "outputs": [
    {
     "data": {
      "text/html": [
       "<div>\n",
       "<style scoped>\n",
       "    .dataframe tbody tr th:only-of-type {\n",
       "        vertical-align: middle;\n",
       "    }\n",
       "\n",
       "    .dataframe tbody tr th {\n",
       "        vertical-align: top;\n",
       "    }\n",
       "\n",
       "    .dataframe thead th {\n",
       "        text-align: right;\n",
       "    }\n",
       "</style>\n",
       "<table border=\"1\" class=\"dataframe\">\n",
       "  <thead>\n",
       "    <tr style=\"text-align: right;\">\n",
       "      <th></th>\n",
       "      <th>url</th>\n",
       "      <th>date</th>\n",
       "      <th>rawContent</th>\n",
       "      <th>renderedContent</th>\n",
       "      <th>id</th>\n",
       "      <th>...</th>\n",
       "      <th>viewCount</th>\n",
       "      <th>vibe</th>\n",
       "      <th>bookmarkCount</th>\n",
       "      <th>pinned</th>\n",
       "      <th>Bank</th>\n",
       "    </tr>\n",
       "  </thead>\n",
       "  <tbody>\n",
       "    <tr>\n",
       "      <th>20</th>\n",
       "      <td>https://twitter.com/segun470413391/status/1663330203739856901</td>\n",
       "      <td>2023-05-29 23:43:18+00:00</td>\n",
       "      <td>@iammrblossom 0731732335 odutola segun access bank</td>\n",
       "      <td>@iammrblossom 0731732335 odutola segun access bank</td>\n",
       "      <td>1663330203739856901</td>\n",
       "      <td>...</td>\n",
       "      <td>1.0</td>\n",
       "      <td>NaN</td>\n",
       "      <td>0</td>\n",
       "      <td>NaN</td>\n",
       "      <td>Access Bank</td>\n",
       "    </tr>\n",
       "    <tr>\n",
       "      <th>47</th>\n",
       "      <td>https://twitter.com/ClarenceOkah/status/1663319980195160065</td>\n",
       "      <td>2023-05-29 23:02:40+00:00</td>\n",
       "      <td>@iammrblossom 0801143797\\nAccess Bank\\nOkah Clarence</td>\n",
       "      <td>@iammrblossom 0801143797\\nAccess Bank\\nOkah Clarence</td>\n",
       "      <td>1663319980195160065</td>\n",
       "      <td>...</td>\n",
       "      <td>3.0</td>\n",
       "      <td>NaN</td>\n",
       "      <td>0</td>\n",
       "      <td>NaN</td>\n",
       "      <td>Access Bank</td>\n",
       "    </tr>\n",
       "    <tr>\n",
       "      <th>50</th>\n",
       "      <td>https://twitter.com/segun470413391/status/1663317486987534337</td>\n",
       "      <td>2023-05-29 22:52:46+00:00</td>\n",
       "      <td>@iammrblossom 0731732335 odutola segun access bank</td>\n",
       "      <td>@iammrblossom 0731732335 odutola segun access bank</td>\n",
       "      <td>1663317486987534337</td>\n",
       "      <td>...</td>\n",
       "      <td>NaN</td>\n",
       "      <td>NaN</td>\n",
       "      <td>0</td>\n",
       "      <td>NaN</td>\n",
       "      <td>Access Bank</td>\n",
       "    </tr>\n",
       "    <tr>\n",
       "      <th>91</th>\n",
       "      <td>https://twitter.com/segun470413391/status/1663280331695300614</td>\n",
       "      <td>2023-05-29 20:25:07+00:00</td>\n",
       "      <td>@iammrblossom 0731732335 odutola segun access bank</td>\n",
       "      <td>@iammrblossom 0731732335 odutola segun access bank</td>\n",
       "      <td>1663280331695300614</td>\n",
       "      <td>...</td>\n",
       "      <td>1.0</td>\n",
       "      <td>NaN</td>\n",
       "      <td>0</td>\n",
       "      <td>NaN</td>\n",
       "      <td>Access Bank</td>\n",
       "    </tr>\n",
       "    <tr>\n",
       "      <th>118</th>\n",
       "      <td>https://twitter.com/layksidejay/status/1663274375322189831</td>\n",
       "      <td>2023-05-29 20:01:27+00:00</td>\n",
       "      <td>@BlessingGives Acc num: 0736183042 \\nAkinyemi Olorunleke \\nAccess Bank</td>\n",
       "      <td>@BlessingGives Acc num: 0736183042 \\nAkinyemi Olorunleke \\nAccess Bank</td>\n",
       "      <td>1663274375322189831</td>\n",
       "      <td>...</td>\n",
       "      <td>10.0</td>\n",
       "      <td>NaN</td>\n",
       "      <td>0</td>\n",
       "      <td>NaN</td>\n",
       "      <td>Access Bank</td>\n",
       "    </tr>\n",
       "    <tr>\n",
       "      <th>...</th>\n",
       "      <td>...</td>\n",
       "      <td>...</td>\n",
       "      <td>...</td>\n",
       "      <td>...</td>\n",
       "      <td>...</td>\n",
       "      <td>...</td>\n",
       "      <td>...</td>\n",
       "      <td>...</td>\n",
       "      <td>...</td>\n",
       "      <td>...</td>\n",
       "      <td>...</td>\n",
       "    </tr>\n",
       "    <tr>\n",
       "      <th>250</th>\n",
       "      <td>https://twitter.com/Itz_derachi/status/1663230740723646483</td>\n",
       "      <td>2023-05-29 17:08:04+00:00</td>\n",
       "      <td>@Realnoni4Real 2054605770 UBA NNAM Emmanuel odera 🙏 🙏 🙏</td>\n",
       "      <td>@Realnoni4Real 2054605770 UBA NNAM Emmanuel odera 🙏 🙏 🙏</td>\n",
       "      <td>1663230740723646483</td>\n",
       "      <td>...</td>\n",
       "      <td>52.0</td>\n",
       "      <td>NaN</td>\n",
       "      <td>0</td>\n",
       "      <td>NaN</td>\n",
       "      <td>UBA</td>\n",
       "    </tr>\n",
       "    <tr>\n",
       "      <th>267</th>\n",
       "      <td>https://twitter.com/rolandudeze10/status/1663221315430498316</td>\n",
       "      <td>2023-05-29 16:30:37+00:00</td>\n",
       "      <td>@brainjotter__ I will use it to pay my final year tuition fee 2185964627 udeze chidiebere roland UBA bank @brainjotter__</td>\n",
       "      <td>@brainjotter__ I will use it to pay my final year tuition fee 2185964627 udeze chidiebere roland UBA bank @brainjotter__</td>\n",
       "      <td>1663221315430498316</td>\n",
       "      <td>...</td>\n",
       "      <td>5.0</td>\n",
       "      <td>NaN</td>\n",
       "      <td>0</td>\n",
       "      <td>NaN</td>\n",
       "      <td>UBA</td>\n",
       "    </tr>\n",
       "    <tr>\n",
       "      <th>310</th>\n",
       "      <td>https://twitter.com/Gdeyl_01/status/1663201777976573952</td>\n",
       "      <td>2023-05-29 15:12:59+00:00</td>\n",
       "      <td>@MrBoluw UBA</td>\n",
       "      <td>@MrBoluw UBA</td>\n",
       "      <td>1663201777976573952</td>\n",
       "      <td>...</td>\n",
       "      <td>5.0</td>\n",
       "      <td>NaN</td>\n",
       "      <td>0</td>\n",
       "      <td>NaN</td>\n",
       "      <td>UBA</td>\n",
       "    </tr>\n",
       "    <tr>\n",
       "      <th>320</th>\n",
       "      <td>https://twitter.com/marvellous_uba/status/1663197876082692096</td>\n",
       "      <td>2023-05-29 14:57:29+00:00</td>\n",
       "      <td>@JuliusElum</td>\n",
       "      <td>@JuliusElum</td>\n",
       "      <td>1663197876082692096</td>\n",
       "      <td>...</td>\n",
       "      <td>3.0</td>\n",
       "      <td>NaN</td>\n",
       "      <td>0</td>\n",
       "      <td>NaN</td>\n",
       "      <td>UBA</td>\n",
       "    </tr>\n",
       "    <tr>\n",
       "      <th>321</th>\n",
       "      <td>https://twitter.com/MhiztaClean/status/1663197870609014795</td>\n",
       "      <td>2023-05-29 14:57:27+00:00</td>\n",
       "      <td>@iammrblossom 9078868032\\nOpay\\nBIODUN\\nMaybe na because i dey drop UBA since Ino get credited \\nLet’s have it</td>\n",
       "      <td>@iammrblossom 9078868032\\nOpay\\nBIODUN\\nMaybe na because i dey drop UBA since Ino get credited \\nLet’s have it</td>\n",
       "      <td>1663197870609014795</td>\n",
       "      <td>...</td>\n",
       "      <td>2.0</td>\n",
       "      <td>NaN</td>\n",
       "      <td>0</td>\n",
       "      <td>NaN</td>\n",
       "      <td>UBA</td>\n",
       "    </tr>\n",
       "  </tbody>\n",
       "</table>\n",
       "<p>1681 rows × 32 columns</p>\n",
       "</div>"
      ],
      "text/plain": [
       "                                                               url  \\\n",
       "20   https://twitter.com/segun470413391/status/1663330203739856901   \n",
       "47     https://twitter.com/ClarenceOkah/status/1663319980195160065   \n",
       "50   https://twitter.com/segun470413391/status/1663317486987534337   \n",
       "91   https://twitter.com/segun470413391/status/1663280331695300614   \n",
       "118     https://twitter.com/layksidejay/status/1663274375322189831   \n",
       "..                                                             ...   \n",
       "250     https://twitter.com/Itz_derachi/status/1663230740723646483   \n",
       "267   https://twitter.com/rolandudeze10/status/1663221315430498316   \n",
       "310        https://twitter.com/Gdeyl_01/status/1663201777976573952   \n",
       "320  https://twitter.com/marvellous_uba/status/1663197876082692096   \n",
       "321     https://twitter.com/MhiztaClean/status/1663197870609014795   \n",
       "\n",
       "                          date  \\\n",
       "20   2023-05-29 23:43:18+00:00   \n",
       "47   2023-05-29 23:02:40+00:00   \n",
       "50   2023-05-29 22:52:46+00:00   \n",
       "91   2023-05-29 20:25:07+00:00   \n",
       "118  2023-05-29 20:01:27+00:00   \n",
       "..                         ...   \n",
       "250  2023-05-29 17:08:04+00:00   \n",
       "267  2023-05-29 16:30:37+00:00   \n",
       "310  2023-05-29 15:12:59+00:00   \n",
       "320  2023-05-29 14:57:29+00:00   \n",
       "321  2023-05-29 14:57:27+00:00   \n",
       "\n",
       "                                                                                                                   rawContent  \\\n",
       "20                                                                         @iammrblossom 0731732335 odutola segun access bank   \n",
       "47                                                                       @iammrblossom 0801143797\\nAccess Bank\\nOkah Clarence   \n",
       "50                                                                         @iammrblossom 0731732335 odutola segun access bank   \n",
       "91                                                                         @iammrblossom 0731732335 odutola segun access bank   \n",
       "118                                                    @BlessingGives Acc num: 0736183042 \\nAkinyemi Olorunleke \\nAccess Bank   \n",
       "..                                                                                                                        ...   \n",
       "250                                                                   @Realnoni4Real 2054605770 UBA NNAM Emmanuel odera 🙏 🙏 🙏   \n",
       "267  @brainjotter__ I will use it to pay my final year tuition fee 2185964627 udeze chidiebere roland UBA bank @brainjotter__   \n",
       "310                                                                                                              @MrBoluw UBA   \n",
       "320                                                                                                               @JuliusElum   \n",
       "321            @iammrblossom 9078868032\\nOpay\\nBIODUN\\nMaybe na because i dey drop UBA since Ino get credited \\nLet’s have it   \n",
       "\n",
       "                                                                                                              renderedContent  \\\n",
       "20                                                                         @iammrblossom 0731732335 odutola segun access bank   \n",
       "47                                                                       @iammrblossom 0801143797\\nAccess Bank\\nOkah Clarence   \n",
       "50                                                                         @iammrblossom 0731732335 odutola segun access bank   \n",
       "91                                                                         @iammrblossom 0731732335 odutola segun access bank   \n",
       "118                                                    @BlessingGives Acc num: 0736183042 \\nAkinyemi Olorunleke \\nAccess Bank   \n",
       "..                                                                                                                        ...   \n",
       "250                                                                   @Realnoni4Real 2054605770 UBA NNAM Emmanuel odera 🙏 🙏 🙏   \n",
       "267  @brainjotter__ I will use it to pay my final year tuition fee 2185964627 udeze chidiebere roland UBA bank @brainjotter__   \n",
       "310                                                                                                              @MrBoluw UBA   \n",
       "320                                                                                                               @JuliusElum   \n",
       "321            @iammrblossom 9078868032\\nOpay\\nBIODUN\\nMaybe na because i dey drop UBA since Ino get credited \\nLet’s have it   \n",
       "\n",
       "                      id  ... viewCount  vibe  bookmarkCount  pinned  \\\n",
       "20   1663330203739856901  ...       1.0   NaN              0     NaN   \n",
       "47   1663319980195160065  ...       3.0   NaN              0     NaN   \n",
       "50   1663317486987534337  ...       NaN   NaN              0     NaN   \n",
       "91   1663280331695300614  ...       1.0   NaN              0     NaN   \n",
       "118  1663274375322189831  ...      10.0   NaN              0     NaN   \n",
       "..                   ...  ...       ...   ...            ...     ...   \n",
       "250  1663230740723646483  ...      52.0   NaN              0     NaN   \n",
       "267  1663221315430498316  ...       5.0   NaN              0     NaN   \n",
       "310  1663201777976573952  ...       5.0   NaN              0     NaN   \n",
       "320  1663197876082692096  ...       3.0   NaN              0     NaN   \n",
       "321  1663197870609014795  ...       2.0   NaN              0     NaN   \n",
       "\n",
       "            Bank  \n",
       "20   Access Bank  \n",
       "47   Access Bank  \n",
       "50   Access Bank  \n",
       "91   Access Bank  \n",
       "118  Access Bank  \n",
       "..           ...  \n",
       "250          UBA  \n",
       "267          UBA  \n",
       "310          UBA  \n",
       "320          UBA  \n",
       "321          UBA  \n",
       "\n",
       "[1681 rows x 32 columns]"
      ]
     },
     "execution_count": 266,
     "metadata": {},
     "output_type": "execute_result"
    }
   ],
   "source": [
    "# check for duplicate tweets\n",
    "tweets_df[tweets_df['rawContent'].duplicated()]"
   ]
  },
  {
   "cell_type": "code",
   "execution_count": 267,
   "id": "673b20d5",
   "metadata": {},
   "outputs": [
    {
     "data": {
      "text/html": [
       "<div>\n",
       "<style scoped>\n",
       "    .dataframe tbody tr th:only-of-type {\n",
       "        vertical-align: middle;\n",
       "    }\n",
       "\n",
       "    .dataframe tbody tr th {\n",
       "        vertical-align: top;\n",
       "    }\n",
       "\n",
       "    .dataframe thead th {\n",
       "        text-align: right;\n",
       "    }\n",
       "</style>\n",
       "<table border=\"1\" class=\"dataframe\">\n",
       "  <thead>\n",
       "    <tr style=\"text-align: right;\">\n",
       "      <th></th>\n",
       "      <th>url</th>\n",
       "      <th>date</th>\n",
       "      <th>rawContent</th>\n",
       "      <th>renderedContent</th>\n",
       "      <th>id</th>\n",
       "      <th>...</th>\n",
       "      <th>viewCount</th>\n",
       "      <th>vibe</th>\n",
       "      <th>bookmarkCount</th>\n",
       "      <th>pinned</th>\n",
       "      <th>Bank</th>\n",
       "    </tr>\n",
       "  </thead>\n",
       "  <tbody>\n",
       "  </tbody>\n",
       "</table>\n",
       "<p>0 rows × 32 columns</p>\n",
       "</div>"
      ],
      "text/plain": [
       "Empty DataFrame\n",
       "Columns: [url, date, rawContent, renderedContent, id, user, replyCount, retweetCount, likeCount, quoteCount, conversationId, lang, source, sourceUrl, sourceLabel, links, media, retweetedTweet, quotedTweet, inReplyToTweetId, inReplyToUser, mentionedUsers, coordinates, place, hashtags, cashtags, card, viewCount, vibe, bookmarkCount, pinned, Bank]\n",
       "Index: []\n",
       "\n",
       "[0 rows x 32 columns]"
      ]
     },
     "execution_count": 267,
     "metadata": {},
     "output_type": "execute_result"
    }
   ],
   "source": [
    " # Drop duplicate tweets\n",
    "tweets_df.drop_duplicates(subset='rawContent', keep=False, inplace=True)\n",
    "tweets_df[tweets_df['rawContent'].duplicated()]"
   ]
  },
  {
   "cell_type": "code",
   "execution_count": 268,
   "id": "0f787409",
   "metadata": {},
   "outputs": [
    {
     "data": {
      "text/plain": [
       "(33343, 32)"
      ]
     },
     "execution_count": 268,
     "metadata": {},
     "output_type": "execute_result"
    }
   ],
   "source": [
    "tweets_df.shape"
   ]
  },
  {
   "cell_type": "code",
   "execution_count": 269,
   "id": "a7314dc0",
   "metadata": {},
   "outputs": [],
   "source": [
    "# rename rawContent to tweet\n",
    "tweets_df.rename(columns = {'rawContent':'tweet'}, inplace = True)"
   ]
  },
  {
   "cell_type": "code",
   "execution_count": 270,
   "id": "d86cc935",
   "metadata": {},
   "outputs": [
    {
     "data": {
      "text/plain": [
       "Index(['url', 'date', 'tweet', 'renderedContent', 'id', 'user', 'replyCount',\n",
       "       'retweetCount', 'likeCount', 'quoteCount', 'conversationId', 'lang',\n",
       "       'source', 'sourceUrl', 'sourceLabel', 'links', 'media',\n",
       "       'retweetedTweet', 'quotedTweet', 'inReplyToTweetId', 'inReplyToUser',\n",
       "       'mentionedUsers', 'coordinates', 'place', 'hashtags', 'cashtags',\n",
       "       'card', 'viewCount', 'vibe', 'bookmarkCount', 'pinned', 'Bank'],\n",
       "      dtype='object')"
      ]
     },
     "execution_count": 270,
     "metadata": {},
     "output_type": "execute_result"
    }
   ],
   "source": [
    "tweets_df.columns"
   ]
  },
  {
   "cell_type": "code",
   "execution_count": 271,
   "id": "099f5932",
   "metadata": {},
   "outputs": [],
   "source": [
    "# function to clean tweet column\n",
    "def clean_text(text):  \n",
    "    pat1 = r'@[^ ]+'                   #@signs\n",
    "    pat2 = r'https?://[A-Za-z0-9./]+'  #links\n",
    "    pat3 = r'\\'s'                      #floating s's\n",
    "    pat4 = r'\\#\\w+'                     # hashtags\n",
    "    pat5 = r'&amp '\n",
    "    pat6 = r'[^A-Za-z\\s]'         #remove non-alphabet\n",
    "    pat7 = r'\\n'\n",
    "    combined_pat = r'|'.join((pat1, pat2,pat3,pat4,pat5, pat6, pat7))\n",
    "    text = re.sub(combined_pat,\"\",text).lower()\n",
    "    return text.strip()"
   ]
  },
  {
   "cell_type": "code",
   "execution_count": 272,
   "id": "98abd0bd",
   "metadata": {},
   "outputs": [],
   "source": [
    "tweets_df[\"tweet\"] = tweets_df[\"tweet\"].apply(clean_text)"
   ]
  },
  {
   "cell_type": "code",
   "execution_count": 279,
   "id": "ebbdd5e0",
   "metadata": {},
   "outputs": [
    {
     "data": {
      "text/plain": [
       "0                                                                                                                        happymothersdaymuhsina yusuf  access bank\n",
       "2                                                                                                 hi  thank you for reaching out kindly check dm for feedback jojo\n",
       "3                                                                                                                                                    meaccess bank\n",
       "4    hi   im sorry your message is yet to be responded to our team is doing their best to respond to every inbox ill get to you please exercise some patience jojo\n",
       "5     hi  im sorry your message is yet to be responded to our team is doing their best to respond to every inbox ill get to you please exercise some patience jojo\n",
       "Name: tweet, dtype: object"
      ]
     },
     "execution_count": 279,
     "metadata": {},
     "output_type": "execute_result"
    }
   ],
   "source": [
    "tweets_df[\"tweet\"].head()"
   ]
  },
  {
   "cell_type": "code",
   "execution_count": 274,
   "id": "3d62ab35",
   "metadata": {},
   "outputs": [
    {
     "data": {
      "text/plain": [
       "array(['en', 'it', 'ro', 'in', 'tl', 'ht', 'und', 'es', 'hi', 'da', 'de',\n",
       "       'nl', 'qam', 'et', 'hu', 'qme', 'sl', 'fi', 'tr', 'zxx', 'qht',\n",
       "       'pt', 'ca', 'pl', 'cs', 'lt', 'eu', 'fr', 'cy', 'no', 'is', 'sv',\n",
       "       'vi', 'art', 'qst'], dtype=object)"
      ]
     },
     "execution_count": 274,
     "metadata": {},
     "output_type": "execute_result"
    }
   ],
   "source": [
    "tweets_df[\"lang\"].unique()"
   ]
  },
  {
   "cell_type": "code",
   "execution_count": 275,
   "id": "889f3ff5",
   "metadata": {},
   "outputs": [],
   "source": [
    "#droping tweet rows which languange isn't english laguage\n",
    "tweets_df = tweets_df[tweets_df[\"lang\"].isin(['en'])]"
   ]
  },
  {
   "cell_type": "code",
   "execution_count": 276,
   "id": "6dfaea6f",
   "metadata": {},
   "outputs": [
    {
     "data": {
      "text/plain": [
       "array(['en'], dtype=object)"
      ]
     },
     "execution_count": 276,
     "metadata": {},
     "output_type": "execute_result"
    }
   ],
   "source": [
    "tweets_df[\"lang\"].unique()"
   ]
  },
  {
   "cell_type": "markdown",
   "id": "9e4ab1bd",
   "metadata": {},
   "source": [
    "#### Any tweet that contains \"thank you for contacting us\" will be removed."
   ]
  },
  {
   "cell_type": "code",
   "execution_count": 280,
   "id": "2b65676f",
   "metadata": {},
   "outputs": [
    {
     "data": {
      "text/html": [
       "<div>\n",
       "<style scoped>\n",
       "    .dataframe tbody tr th:only-of-type {\n",
       "        vertical-align: middle;\n",
       "    }\n",
       "\n",
       "    .dataframe tbody tr th {\n",
       "        vertical-align: top;\n",
       "    }\n",
       "\n",
       "    .dataframe thead th {\n",
       "        text-align: right;\n",
       "    }\n",
       "</style>\n",
       "<table border=\"1\" class=\"dataframe\">\n",
       "  <thead>\n",
       "    <tr style=\"text-align: right;\">\n",
       "      <th></th>\n",
       "      <th>url</th>\n",
       "      <th>date</th>\n",
       "      <th>tweet</th>\n",
       "      <th>renderedContent</th>\n",
       "      <th>id</th>\n",
       "      <th>...</th>\n",
       "      <th>viewCount</th>\n",
       "      <th>vibe</th>\n",
       "      <th>bookmarkCount</th>\n",
       "      <th>pinned</th>\n",
       "      <th>Bank</th>\n",
       "    </tr>\n",
       "  </thead>\n",
       "  <tbody>\n",
       "    <tr>\n",
       "      <th>1407</th>\n",
       "      <td>https://twitter.com/fidelitybankplc/status/1663215582555062272</td>\n",
       "      <td>2023-05-29 16:07:50+00:00</td>\n",
       "      <td>hello  thank you for contacting fidelity bank we sincerely apologize for the inconvenience experienced kindly provide your account number and exact error message to enable us assist you further</td>\n",
       "      <td>Hello @PhyliciaDinny. Thank you for contacting Fidelity Bank. We sincerely apologize for the inconvenience experienced. Kindly provide your account number and exact error message to enable us assist you further. #FidelityCares</td>\n",
       "      <td>1663215582555062272</td>\n",
       "      <td>...</td>\n",
       "      <td>744.0</td>\n",
       "      <td>NaN</td>\n",
       "      <td>0</td>\n",
       "      <td>NaN</td>\n",
       "      <td>Fidelity Bank</td>\n",
       "    </tr>\n",
       "    <tr>\n",
       "      <th>1408</th>\n",
       "      <td>https://twitter.com/fidelitybankplc/status/1663213065704202241</td>\n",
       "      <td>2023-05-29 15:57:50+00:00</td>\n",
       "      <td>hello  thank you for contacting fidelity bank we empathize with you on the issue raised kindly provide your account number date amount wrong and intended beneficiaries details via dm to enable us assist further</td>\n",
       "      <td>Hello @deensterling1. Thank you for contacting Fidelity Bank. We empathize with you on the issue raised. Kindly provide your account number, date, amount, wrong and intended beneficiaries' details via DM to enable us assist further. #FidelityCares</td>\n",
       "      <td>1663213065704202241</td>\n",
       "      <td>...</td>\n",
       "      <td>522.0</td>\n",
       "      <td>NaN</td>\n",
       "      <td>0</td>\n",
       "      <td>NaN</td>\n",
       "      <td>Fidelity Bank</td>\n",
       "    </tr>\n",
       "  </tbody>\n",
       "</table>\n",
       "<p>2 rows × 32 columns</p>\n",
       "</div>"
      ],
      "text/plain": [
       "                                                                 url  \\\n",
       "1407  https://twitter.com/fidelitybankplc/status/1663215582555062272   \n",
       "1408  https://twitter.com/fidelitybankplc/status/1663213065704202241   \n",
       "\n",
       "                           date  \\\n",
       "1407  2023-05-29 16:07:50+00:00   \n",
       "1408  2023-05-29 15:57:50+00:00   \n",
       "\n",
       "                                                                                                                                                                                                                   tweet  \\\n",
       "1407                   hello  thank you for contacting fidelity bank we sincerely apologize for the inconvenience experienced kindly provide your account number and exact error message to enable us assist you further   \n",
       "1408  hello  thank you for contacting fidelity bank we empathize with you on the issue raised kindly provide your account number date amount wrong and intended beneficiaries details via dm to enable us assist further   \n",
       "\n",
       "                                                                                                                                                                                                                                              renderedContent  \\\n",
       "1407                       Hello @PhyliciaDinny. Thank you for contacting Fidelity Bank. We sincerely apologize for the inconvenience experienced. Kindly provide your account number and exact error message to enable us assist you further. #FidelityCares   \n",
       "1408  Hello @deensterling1. Thank you for contacting Fidelity Bank. We empathize with you on the issue raised. Kindly provide your account number, date, amount, wrong and intended beneficiaries' details via DM to enable us assist further. #FidelityCares   \n",
       "\n",
       "                       id  ... viewCount  vibe  bookmarkCount  pinned  \\\n",
       "1407  1663215582555062272  ...     744.0   NaN              0     NaN   \n",
       "1408  1663213065704202241  ...     522.0   NaN              0     NaN   \n",
       "\n",
       "               Bank  \n",
       "1407  Fidelity Bank  \n",
       "1408  Fidelity Bank  \n",
       "\n",
       "[2 rows x 32 columns]"
      ]
     },
     "execution_count": 280,
     "metadata": {},
     "output_type": "execute_result"
    }
   ],
   "source": [
    "contacting_df = tweets_df.loc[tweets_df['tweet'].str.contains(\"thank you for contacting|thanks for contacting\", case=False)]\n",
    "contacting_df.head(2)"
   ]
  },
  {
   "cell_type": "code",
   "execution_count": 281,
   "id": "e5f6d965",
   "metadata": {},
   "outputs": [],
   "source": [
    "tweets_df = tweets_df.loc[~(tweets_df['tweet'].str.contains(\"thank you for contacting|thanks for contacting|thank you for reaching out|sorry your message is yet to be responded|apologize for any inconvenience|your complaint via dm\", case=False))]"
   ]
  },
  {
   "cell_type": "code",
   "execution_count": 282,
   "id": "8f972fce",
   "metadata": {},
   "outputs": [],
   "source": [
    "#df['UserName'] = df['url'].str.slice(0, 3)\n",
    "tweets_df['User'] = tweets_df['url'].apply(lambda x: x.split('/')[3])"
   ]
  },
  {
   "cell_type": "code",
   "execution_count": 283,
   "id": "9f8b9b1e",
   "metadata": {},
   "outputs": [],
   "source": [
    "# selecting the important columns for this analysis\n",
    "tweets_df = tweets_df[['date', 'tweet', 'likeCount', 'Bank', 'User']]"
   ]
  },
  {
   "cell_type": "code",
   "execution_count": 284,
   "id": "a1acb2fd",
   "metadata": {},
   "outputs": [
    {
     "data": {
      "text/html": [
       "<div>\n",
       "<style scoped>\n",
       "    .dataframe tbody tr th:only-of-type {\n",
       "        vertical-align: middle;\n",
       "    }\n",
       "\n",
       "    .dataframe tbody tr th {\n",
       "        vertical-align: top;\n",
       "    }\n",
       "\n",
       "    .dataframe thead th {\n",
       "        text-align: right;\n",
       "    }\n",
       "</style>\n",
       "<table border=\"1\" class=\"dataframe\">\n",
       "  <thead>\n",
       "    <tr style=\"text-align: right;\">\n",
       "      <th></th>\n",
       "      <th>date</th>\n",
       "      <th>tweet</th>\n",
       "      <th>likeCount</th>\n",
       "      <th>Bank</th>\n",
       "      <th>User</th>\n",
       "    </tr>\n",
       "  </thead>\n",
       "  <tbody>\n",
       "    <tr>\n",
       "      <th>393</th>\n",
       "      <td>2023-05-29 13:40:20+00:00</td>\n",
       "      <td>yaronan theyre all the same duk yan yunwane the moment they get what they want shiknan it all fake sympathy towards to masses yan kutumar uba masu ci da media</td>\n",
       "      <td>13</td>\n",
       "      <td>UBA</td>\n",
       "      <td>mni_JJ</td>\n",
       "    </tr>\n",
       "    <tr>\n",
       "      <th>394</th>\n",
       "      <td>2023-05-29 13:39:49+00:00</td>\n",
       "      <td>boss please consider me am been active for long please boss abeg you am  going through alot i pray today will be my lucky day boss  uba more blessings</td>\n",
       "      <td>0</td>\n",
       "      <td>UBA</td>\n",
       "      <td>terro_eyes</td>\n",
       "    </tr>\n",
       "    <tr>\n",
       "      <th>395</th>\n",
       "      <td>2023-05-29 13:39:26+00:00</td>\n",
       "      <td>make uba chillna only  day in office you want to start cushioning its take time and more so nigerians are used to suffering and smiling</td>\n",
       "      <td>4</td>\n",
       "      <td>UBA</td>\n",
       "      <td>KingTemio</td>\n",
       "    </tr>\n",
       "    <tr>\n",
       "      <th>397</th>\n",
       "      <td>2023-05-29 13:30:43+00:00</td>\n",
       "      <td>breaking governor uba sani has announced the renaming of the entire stretch of rabah road as nasir elrufai way</td>\n",
       "      <td>564</td>\n",
       "      <td>UBA</td>\n",
       "      <td>InsideKaduna_</td>\n",
       "    </tr>\n",
       "    <tr>\n",
       "      <th>399</th>\n",
       "      <td>2023-05-29 13:33:09+00:00</td>\n",
       "      <td>ubasamuel anietie jimmyboss im very hungry please help me anything will do</td>\n",
       "      <td>0</td>\n",
       "      <td>UBA</td>\n",
       "      <td>Jimmy7543098451</td>\n",
       "    </tr>\n",
       "  </tbody>\n",
       "</table>\n",
       "</div>"
      ],
      "text/plain": [
       "                          date  \\\n",
       "393  2023-05-29 13:40:20+00:00   \n",
       "394  2023-05-29 13:39:49+00:00   \n",
       "395  2023-05-29 13:39:26+00:00   \n",
       "397  2023-05-29 13:30:43+00:00   \n",
       "399  2023-05-29 13:33:09+00:00   \n",
       "\n",
       "                                                                                                                                                              tweet  \\\n",
       "393  yaronan theyre all the same duk yan yunwane the moment they get what they want shiknan it all fake sympathy towards to masses yan kutumar uba masu ci da media   \n",
       "394          boss please consider me am been active for long please boss abeg you am  going through alot i pray today will be my lucky day boss  uba more blessings   \n",
       "395                         make uba chillna only  day in office you want to start cushioning its take time and more so nigerians are used to suffering and smiling   \n",
       "397                                                  breaking governor uba sani has announced the renaming of the entire stretch of rabah road as nasir elrufai way   \n",
       "399                                                                                      ubasamuel anietie jimmyboss im very hungry please help me anything will do   \n",
       "\n",
       "     likeCount Bank             User  \n",
       "393         13  UBA           mni_JJ  \n",
       "394          0  UBA       terro_eyes  \n",
       "395          4  UBA        KingTemio  \n",
       "397        564  UBA    InsideKaduna_  \n",
       "399          0  UBA  Jimmy7543098451  "
      ]
     },
     "execution_count": 284,
     "metadata": {},
     "output_type": "execute_result"
    }
   ],
   "source": [
    "tweets_df.tail()"
   ]
  },
  {
   "cell_type": "markdown",
   "id": "a60b3f99",
   "metadata": {},
   "source": [
    "### Data Preprocessing"
   ]
  },
  {
   "cell_type": "code",
   "execution_count": 285,
   "id": "4e5e6d8d",
   "metadata": {},
   "outputs": [
    {
     "name": "stdout",
     "output_type": "stream",
     "text": [
      "Running sentiment process\n"
     ]
    }
   ],
   "source": [
    "print(\"Running sentiment process\")\n",
    "\n",
    "# creating two new columns(polarity and subjectivity)\n",
    "def getSubjectivity(text):\n",
    "    return TextBlob(text).sentiment.subjectivity\n",
    "def getPolarity(text):\n",
    "    return TextBlob(text).sentiment.polarity\n",
    "\n",
    "tweets_df[\"Subjectivity\"] = tweets_df['tweet'].apply(getSubjectivity)\n",
    "tweets_df[\"Polarity\"] = tweets_df['tweet'].apply(getPolarity)"
   ]
  },
  {
   "cell_type": "code",
   "execution_count": 286,
   "id": "e0aeee90",
   "metadata": {},
   "outputs": [
    {
     "data": {
      "text/html": [
       "<div>\n",
       "<style scoped>\n",
       "    .dataframe tbody tr th:only-of-type {\n",
       "        vertical-align: middle;\n",
       "    }\n",
       "\n",
       "    .dataframe tbody tr th {\n",
       "        vertical-align: top;\n",
       "    }\n",
       "\n",
       "    .dataframe thead th {\n",
       "        text-align: right;\n",
       "    }\n",
       "</style>\n",
       "<table border=\"1\" class=\"dataframe\">\n",
       "  <thead>\n",
       "    <tr style=\"text-align: right;\">\n",
       "      <th></th>\n",
       "      <th>Subjectivity</th>\n",
       "      <th>Polarity</th>\n",
       "      <th>tweet</th>\n",
       "    </tr>\n",
       "  </thead>\n",
       "  <tbody>\n",
       "    <tr>\n",
       "      <th>0</th>\n",
       "      <td>0.00</td>\n",
       "      <td>0.0</td>\n",
       "      <td>happymothersdaymuhsina yusuf  access bank</td>\n",
       "    </tr>\n",
       "    <tr>\n",
       "      <th>3</th>\n",
       "      <td>0.00</td>\n",
       "      <td>0.0</td>\n",
       "      <td>meaccess bank</td>\n",
       "    </tr>\n",
       "    <tr>\n",
       "      <th>11</th>\n",
       "      <td>0.45</td>\n",
       "      <td>0.3</td>\n",
       "      <td>please am a student and i need financial backing please someone so kind should do me a favour access bank</td>\n",
       "    </tr>\n",
       "    <tr>\n",
       "      <th>14</th>\n",
       "      <td>0.00</td>\n",
       "      <td>0.0</td>\n",
       "      <td>access bank</td>\n",
       "    </tr>\n",
       "    <tr>\n",
       "      <th>15</th>\n",
       "      <td>0.00</td>\n",
       "      <td>0.0</td>\n",
       "      <td>access bank</td>\n",
       "    </tr>\n",
       "  </tbody>\n",
       "</table>\n",
       "</div>"
      ],
      "text/plain": [
       "    Subjectivity  Polarity  \\\n",
       "0           0.00       0.0   \n",
       "3           0.00       0.0   \n",
       "11          0.45       0.3   \n",
       "14          0.00       0.0   \n",
       "15          0.00       0.0   \n",
       "\n",
       "                                                                                                        tweet  \n",
       "0                                                                   happymothersdaymuhsina yusuf  access bank  \n",
       "3                                                                                               meaccess bank  \n",
       "11  please am a student and i need financial backing please someone so kind should do me a favour access bank  \n",
       "14                                                                                                access bank  \n",
       "15                                                                                                access bank  "
      ]
     },
     "execution_count": 286,
     "metadata": {},
     "output_type": "execute_result"
    }
   ],
   "source": [
    "tweets_df[['Subjectivity','Polarity','tweet']].head()"
   ]
  },
  {
   "cell_type": "code",
   "execution_count": 287,
   "id": "0c7fec52",
   "metadata": {},
   "outputs": [],
   "source": [
    "#creating a column to show if the tweet is positive, negative or neutral\n",
    "def analysis(score):\n",
    "    if score < 0:\n",
    "        return \"Negative\"\n",
    "    elif score == 0:\n",
    "        return \"Neutral\"\n",
    "    else:\n",
    "        return \"Positive\"\n",
    "\n",
    "tweets_df['Analysis'] = tweets_df['Polarity'].apply(analysis)"
   ]
  },
  {
   "cell_type": "code",
   "execution_count": 288,
   "id": "c65bc59b",
   "metadata": {},
   "outputs": [],
   "source": [
    "tweets_df[\"date\"] = pd.to_datetime(tweets_df[\"date\"])\n",
    "\n",
    "# #set index = date so as to create rolling mean \n",
    "# tweets_df = tweets_df.sort_values(\"date\").set_index(\"date\")"
   ]
  },
  {
   "cell_type": "code",
   "execution_count": 289,
   "id": "91ae7386",
   "metadata": {},
   "outputs": [
    {
     "data": {
      "text/html": [
       "<div>\n",
       "<style scoped>\n",
       "    .dataframe tbody tr th:only-of-type {\n",
       "        vertical-align: middle;\n",
       "    }\n",
       "\n",
       "    .dataframe tbody tr th {\n",
       "        vertical-align: top;\n",
       "    }\n",
       "\n",
       "    .dataframe thead th {\n",
       "        text-align: right;\n",
       "    }\n",
       "</style>\n",
       "<table border=\"1\" class=\"dataframe\">\n",
       "  <thead>\n",
       "    <tr style=\"text-align: right;\">\n",
       "      <th></th>\n",
       "      <th>date</th>\n",
       "      <th>tweet</th>\n",
       "      <th>likeCount</th>\n",
       "      <th>Bank</th>\n",
       "      <th>User</th>\n",
       "      <th>Subjectivity</th>\n",
       "      <th>Polarity</th>\n",
       "      <th>Analysis</th>\n",
       "    </tr>\n",
       "  </thead>\n",
       "  <tbody>\n",
       "    <tr>\n",
       "      <th>0</th>\n",
       "      <td>2023-05-29 23:59:42+00:00</td>\n",
       "      <td>happymothersdaymuhsina yusuf  access bank</td>\n",
       "      <td>2</td>\n",
       "      <td>Access Bank</td>\n",
       "      <td>MssMuhsina</td>\n",
       "      <td>0.00</td>\n",
       "      <td>0.0</td>\n",
       "      <td>Neutral</td>\n",
       "    </tr>\n",
       "    <tr>\n",
       "      <th>3</th>\n",
       "      <td>2023-05-29 23:57:37+00:00</td>\n",
       "      <td>meaccess bank</td>\n",
       "      <td>0</td>\n",
       "      <td>Access Bank</td>\n",
       "      <td>Kantiokfaith1</td>\n",
       "      <td>0.00</td>\n",
       "      <td>0.0</td>\n",
       "      <td>Neutral</td>\n",
       "    </tr>\n",
       "    <tr>\n",
       "      <th>11</th>\n",
       "      <td>2023-05-29 23:53:19+00:00</td>\n",
       "      <td>please am a student and i need financial backing please someone so kind should do me a favour access bank</td>\n",
       "      <td>0</td>\n",
       "      <td>Access Bank</td>\n",
       "      <td>Tordue23</td>\n",
       "      <td>0.45</td>\n",
       "      <td>0.3</td>\n",
       "      <td>Positive</td>\n",
       "    </tr>\n",
       "    <tr>\n",
       "      <th>14</th>\n",
       "      <td>2023-05-29 23:45:57+00:00</td>\n",
       "      <td>access bank</td>\n",
       "      <td>0</td>\n",
       "      <td>Access Bank</td>\n",
       "      <td>Tordue23</td>\n",
       "      <td>0.00</td>\n",
       "      <td>0.0</td>\n",
       "      <td>Neutral</td>\n",
       "    </tr>\n",
       "    <tr>\n",
       "      <th>15</th>\n",
       "      <td>2023-05-29 23:45:16+00:00</td>\n",
       "      <td>access bank</td>\n",
       "      <td>0</td>\n",
       "      <td>Access Bank</td>\n",
       "      <td>amaciouslala</td>\n",
       "      <td>0.00</td>\n",
       "      <td>0.0</td>\n",
       "      <td>Neutral</td>\n",
       "    </tr>\n",
       "  </tbody>\n",
       "</table>\n",
       "</div>"
      ],
      "text/plain": [
       "                        date  \\\n",
       "0  2023-05-29 23:59:42+00:00   \n",
       "3  2023-05-29 23:57:37+00:00   \n",
       "11 2023-05-29 23:53:19+00:00   \n",
       "14 2023-05-29 23:45:57+00:00   \n",
       "15 2023-05-29 23:45:16+00:00   \n",
       "\n",
       "                                                                                                        tweet  \\\n",
       "0                                                                   happymothersdaymuhsina yusuf  access bank   \n",
       "3                                                                                               meaccess bank   \n",
       "11  please am a student and i need financial backing please someone so kind should do me a favour access bank   \n",
       "14                                                                                                access bank   \n",
       "15                                                                                                access bank   \n",
       "\n",
       "    likeCount         Bank           User  Subjectivity  Polarity  Analysis  \n",
       "0           2  Access Bank     MssMuhsina          0.00       0.0   Neutral  \n",
       "3           0  Access Bank  Kantiokfaith1          0.00       0.0   Neutral  \n",
       "11          0  Access Bank       Tordue23          0.45       0.3  Positive  \n",
       "14          0  Access Bank       Tordue23          0.00       0.0   Neutral  \n",
       "15          0  Access Bank   amaciouslala          0.00       0.0   Neutral  "
      ]
     },
     "execution_count": 289,
     "metadata": {},
     "output_type": "execute_result"
    }
   ],
   "source": [
    "tweets_df.head()"
   ]
  },
  {
   "cell_type": "code",
   "execution_count": 290,
   "id": "67c25b14",
   "metadata": {},
   "outputs": [
    {
     "data": {
      "text/plain": [
       "4729"
      ]
     },
     "execution_count": 290,
     "metadata": {},
     "output_type": "execute_result"
    }
   ],
   "source": [
    "# check for duplicate tweets\n",
    "tweets_df['tweet'].duplicated().sum()"
   ]
  },
  {
   "cell_type": "code",
   "execution_count": 291,
   "id": "27aaea40",
   "metadata": {},
   "outputs": [
    {
     "data": {
      "text/plain": [
       "0"
      ]
     },
     "execution_count": 291,
     "metadata": {},
     "output_type": "execute_result"
    }
   ],
   "source": [
    "# Drop duplicate tweets\n",
    "tweets_df.drop_duplicates(subset='tweet', keep=False, inplace=True)\n",
    "tweets_df['tweet'].duplicated().sum()"
   ]
  },
  {
   "cell_type": "markdown",
   "id": "e444cd18",
   "metadata": {},
   "source": [
    "### Data Visualization and Exploratory"
   ]
  },
  {
   "cell_type": "code",
   "execution_count": 292,
   "id": "114358ab",
   "metadata": {},
   "outputs": [
    {
     "data": {
      "image/png": "[encoded data removed]",
      "text/plain": [
       "<Figure size 504x360 with 1 Axes>"
      ]
     },
     "metadata": {},
     "output_type": "display_data"
    }
   ],
   "source": [
    "# Plotting a pie chart to show distribution of Sentiments\n",
    "plt.figure(figsize=[7,5], facecolor='none')\n",
    "plt.pie(tweets_df['Analysis'].value_counts(), labels=['Neutral','Postive', \"Negative\"], colors=['#1dc5af', '#666666', '#E6f2ee'], startangle=90, explode= [0,0,0.09], autopct='%1.1f%%');\n",
    "plt.title('Twitter Users Sentiments');"
   ]
  },
  {
   "cell_type": "code",
   "execution_count": 293,
   "id": "94682169",
   "metadata": {},
   "outputs": [
    {
     "data": {
      "image/png": "[encoded data removed]",
      "text/plain": [
       "<Figure size 432x288 with 1 Axes>"
      ]
     },
     "metadata": {
      "needs_background": "light"
     },
     "output_type": "display_data"
    }
   ],
   "source": [
    "sns.countplot(data=tweets_df, x='Bank', hue='Analysis')\n",
    "plt.title('Tweet Analysis of Nigerian Banks'.upper())\n",
    "\n",
    "plt.show()"
   ]
  },
  {
   "cell_type": "markdown",
   "id": "09b8d908",
   "metadata": {},
   "source": [
    "#### Creating a word cloud"
   ]
  },
  {
   "cell_type": "code",
   "execution_count": 294,
   "id": "3f55336f",
   "metadata": {},
   "outputs": [],
   "source": [
    "#import nltk\n",
    "#nltk.download('stopwords')\n",
    "#from nltk.corpus import stopwords\n",
    "\n",
    "stop_words = stopwords.words('english')\n",
    "stop_words = stop_words + ['u', 'na', 'know', 'one', 'go', 'make', 'see', 'dont', 'amp', 'im', 'cant']\n",
    "tweets_df['cleaned_words'] = tweets_df['tweet'].astype(str).apply(lambda x: ' '.join([word for word in x.split() if word not in (stop_words)]))"
   ]
  },
  {
   "cell_type": "code",
   "execution_count": 295,
   "id": "06030b38",
   "metadata": {},
   "outputs": [
    {
     "name": "stdout",
     "output_type": "stream",
     "text": [
      "['i', 'me', 'my', 'myself', 'we', 'our', 'ours', 'ourselves', 'you', \"you're\", \"you've\", \"you'll\", \"you'd\", 'your', 'yours', 'yourself', 'yourselves', 'he', 'him', 'his', 'himself', 'she', \"she's\", 'her', 'hers', 'herself', 'it', \"it's\", 'its', 'itself', 'they', 'them', 'their', 'theirs', 'themselves', 'what', 'which', 'who', 'whom', 'this', 'that', \"that'll\", 'these', 'those', 'am', 'is', 'are', 'was', 'were', 'be', 'been', 'being', 'have', 'has', 'had', 'having', 'do', 'does', 'did', 'doing', 'a', 'an', 'the', 'and', 'but', 'if', 'or', 'because', 'as', 'until', 'while', 'of', 'at', 'by', 'for', 'with', 'about', 'against', 'between', 'into', 'through', 'during', 'before', 'after', 'above', 'below', 'to', 'from', 'up', 'down', 'in', 'out', 'on', 'off', 'over', 'under', 'again', 'further', 'then', 'once', 'here', 'there', 'when', 'where', 'why', 'how', 'all', 'any', 'both', 'each', 'few', 'more', 'most', 'other', 'some', 'such', 'no', 'nor', 'not', 'only', 'own', 'same', 'so', 'than', 'too', 'very', 's', 't', 'can', 'will', 'just', 'don', \"don't\", 'should', \"should've\", 'now', 'd', 'll', 'm', 'o', 're', 've', 'y', 'ain', 'aren', \"aren't\", 'couldn', \"couldn't\", 'didn', \"didn't\", 'doesn', \"doesn't\", 'hadn', \"hadn't\", 'hasn', \"hasn't\", 'haven', \"haven't\", 'isn', \"isn't\", 'ma', 'mightn', \"mightn't\", 'mustn', \"mustn't\", 'needn', \"needn't\", 'shan', \"shan't\", 'shouldn', \"shouldn't\", 'wasn', \"wasn't\", 'weren', \"weren't\", 'won', \"won't\", 'wouldn', \"wouldn't\", 'u', 'na', 'know', 'one', 'go', 'make', 'see', 'dont', 'amp', 'im', 'cant']\n"
     ]
    }
   ],
   "source": [
    "print(stop_words)"
   ]
  },
  {
   "cell_type": "code",
   "execution_count": 296,
   "id": "f30caf53",
   "metadata": {},
   "outputs": [
    {
     "data": {
      "text/plain": [
       "<matplotlib.image.AxesImage at 0x19086150ca0>"
      ]
     },
     "execution_count": 296,
     "metadata": {},
     "output_type": "execute_result"
    },
    {
     "data": {
      "image/png": "[encoded data removed]",
      "text/plain": [
       "<Figure size 432x288 with 1 Axes>"
      ]
     },
     "metadata": {
      "needs_background": "light"
     },
     "output_type": "display_data"
    }
   ],
   "source": [
    "#Creating the text variable\n",
    "text = \" \".join(i for i in tweets_df.cleaned_words)\n",
    "\n",
    "wc = WordCloud(width = 1000, height = 800, background_color = \"white\").generate(text)\n",
    "\n",
    "#Remove axis and display the data as image\n",
    "plt.axis(\"off\")\n",
    "plt.imshow(wc, interpolation = \"bilinear\")"
   ]
  },
  {
   "cell_type": "code",
   "execution_count": 297,
   "id": "8b32bf76",
   "metadata": {},
   "outputs": [
    {
     "data": {
      "text/plain": [
       "Index(['date', 'tweet', 'likeCount', 'Bank', 'User', 'Subjectivity',\n",
       "       'Polarity', 'Analysis', 'cleaned_words'],\n",
       "      dtype='object')"
      ]
     },
     "execution_count": 297,
     "metadata": {},
     "output_type": "execute_result"
    }
   ],
   "source": [
    "tweets_df.columns"
   ]
  },
  {
   "cell_type": "code",
   "execution_count": null,
   "id": "14fc760e",
   "metadata": {},
   "outputs": [],
   "source": [
    "# save processed tweets as csv\n",
    "tweets_df.to_csv('processed_bank_tweets.csv')"
   ]
  },
  {
   "cell_type": "code",
   "execution_count": null,
   "id": "f455ca10",
   "metadata": {},
   "outputs": [],
   "source": []
  }
 ],
 "metadata": {
  "kernelspec": {
   "display_name": "Python 3 (ipykernel)",
   "language": "python",
   "name": "python3"
  },
  "language_info": {
   "codemirror_mode": {
    "name": "ipython",
    "version": 3
   },
   "file_extension": ".py",
   "mimetype": "text/x-python",
   "name": "python",
   "nbconvert_exporter": "python",
   "pygments_lexer": "ipython3",
   "version": "3.9.1"
  }
 },
 "nbformat": 4,
 "nbformat_minor": 5
}
